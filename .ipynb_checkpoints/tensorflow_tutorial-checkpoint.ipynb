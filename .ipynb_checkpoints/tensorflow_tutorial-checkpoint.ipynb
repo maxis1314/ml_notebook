{
 "cells": [
  {
   "cell_type": "markdown",
   "id": "competent-resolution",
   "metadata": {},
   "source": [
    "# tenforflow 入门教学"
   ]
  },
  {
   "cell_type": "code",
   "execution_count": 18,
   "id": "ignored-glass",
   "metadata": {
    "scrolled": true
   },
   "outputs": [
    {
     "name": "stdout",
     "output_type": "stream",
     "text": [
      "Welcome to the exciting world of Deep Neural Networks!\n"
     ]
    }
   ],
   "source": [
    "import tensorflow as tf\n",
    "message = tf.constant('Welcome to the exciting world of Deep Neural Networks!')\n",
    "with tf.Session() as sess:\n",
    "    print(sess.run(message).decode())\n",
    "sess = tf.Session()"
   ]
  },
  {
   "cell_type": "code",
   "execution_count": 2,
   "id": "entire-marshall",
   "metadata": {},
   "outputs": [
    {
     "name": "stdout",
     "output_type": "stream",
     "text": [
      "[1 2 3 4]\n",
      "[2 1 5 3]\n",
      "[3 3 8 7]\n",
      "[3 3 8 7]\n"
     ]
    }
   ],
   "source": [
    "v_1 = tf.constant([1,2,3,4])\n",
    "v_2 = tf.constant([2,1,5,3])\n",
    "v_add = tf.add(v_1,v_2)\n",
    "with tf.Session() as sess:\n",
    "    print(sess.run(v_1))\n",
    "    print(sess.run(v_2))\n",
    "    print(sess.run(v_add))\n",
    "    print(sess.run(tf.add(tf.constant([1,2,3,4]),tf.constant([2,1,5,3]))))"
   ]
  },
  {
   "cell_type": "code",
   "execution_count": 3,
   "id": "satellite-emperor",
   "metadata": {},
   "outputs": [
    {
     "name": "stdout",
     "output_type": "stream",
     "text": [
      "[3 3 8 7]\n",
      "[3 3 8 7]\n"
     ]
    }
   ],
   "source": [
    "sess2 = tf.InteractiveSession()\n",
    "print(sess2.run(v_add))\n",
    "print(v_add.eval())\n",
    "sess2.close()"
   ]
  },
  {
   "cell_type": "markdown",
   "id": "sound-politics",
   "metadata": {},
   "source": [
    "## 要创建一个所有元素为零的张量，可以使用 tf.zeros() 函数。这个语句可以创建一个形如 [M，N] 的零元素矩阵，数据类型（dtype）可以是 int32、float32 等："
   ]
  },
  {
   "cell_type": "code",
   "execution_count": 7,
   "id": "interpreted-person",
   "metadata": {},
   "outputs": [
    {
     "data": {
      "text/plain": [
       "array([[0, 0, 0, 0],\n",
       "       [0, 0, 0, 0],\n",
       "       [0, 0, 0, 0]], dtype=int32)"
      ]
     },
     "execution_count": 7,
     "metadata": {},
     "output_type": "execute_result"
    }
   ],
   "source": [
    "zero_t = tf.zeros([3,4],tf.int32)\n",
    "sess.run(zero_t)"
   ]
  },
  {
   "cell_type": "markdown",
   "id": "executed-fetish",
   "metadata": {},
   "source": [
    "## 创建一个所有元素都设为 1 的张量。下面的语句即创建一个形如 [M，N]、元素均为 1 的矩阵："
   ]
  },
  {
   "cell_type": "code",
   "execution_count": null,
   "id": "outside-remains",
   "metadata": {},
   "outputs": [],
   "source": [
    "ones_t = tf.ones([2,3],tf.int32)\n",
    "sess.run(ones_t)"
   ]
  },
  {
   "cell_type": "markdown",
   "id": "speaking-ivory",
   "metadata": {},
   "source": [
    "## 在一定范围内生成一个从初值到终值等差排布的序列"
   ]
  },
  {
   "cell_type": "code",
   "execution_count": null,
   "id": "interracial-essex",
   "metadata": {},
   "outputs": [],
   "source": [
    "range_t = tf.linspace(2.0,15.0,5)\n",
    "sess.run(range_t)"
   ]
  },
  {
   "cell_type": "markdown",
   "id": "italian-mother",
   "metadata": {},
   "source": [
    "## 从开始（默认值=0）生成一个数字序列，增量为 delta（默认值=1），直到终值（但不包括终值）"
   ]
  },
  {
   "cell_type": "code",
   "execution_count": null,
   "id": "czech-awareness",
   "metadata": {},
   "outputs": [],
   "source": [
    "range_t = tf.range(10)\n",
    "sess.run(range_t)"
   ]
  },
  {
   "cell_type": "markdown",
   "id": "unknown-northern",
   "metadata": {},
   "source": [
    "## 使用以下语句创建一个具有一定均值（默认值=0.0）和标准差（默认值=1.0）、形状为 [M，N] 的正态分布随机数组"
   ]
  },
  {
   "cell_type": "code",
   "execution_count": 8,
   "id": "checked-sheffield",
   "metadata": {},
   "outputs": [
    {
     "data": {
      "text/plain": [
       "array([[-31.663136 ,  96.49774  ,  10.819015 ],\n",
       "       [-76.44008  ,  -6.5275383,  33.195168 ]], dtype=float32)"
      ]
     },
     "execution_count": 8,
     "metadata": {},
     "output_type": "execute_result"
    }
   ],
   "source": [
    "t_random = tf.random_normal([2,3], mean=12.0, stddev=100 , seed=12)\n",
    "sess.run(t_random)"
   ]
  },
  {
   "cell_type": "markdown",
   "id": "conventional-assault",
   "metadata": {},
   "source": [
    "![chicken.png](./images/chicken.jpg)"
   ]
  },
  {
   "cell_type": "code",
   "execution_count": 9,
   "id": "ancient-capture",
   "metadata": {},
   "outputs": [
    {
     "data": {
      "text/plain": [
       "array([[ 151.85995 ,  -17.988905,   79.422134],\n",
       "       [-146.7453  , -115.33358 ,  168.8891  ]], dtype=float32)"
      ]
     },
     "execution_count": 9,
     "metadata": {},
     "output_type": "execute_result"
    }
   ],
   "source": [
    "#很多时候需要以随机的顺序来呈现训练样本，可以使用 tf.random_shuffle() 来沿着它的第一维随机排列张量。如果 t_random 是想要重新排序的张量，使用下面的代码：\n",
    "t_random_shuffle = tf.random_shuffle(t_random)\n",
    "sess.run(t_random_shuffle)"
   ]
  },
  {
   "cell_type": "code",
   "execution_count": null,
   "id": "hazardous-least",
   "metadata": {},
   "outputs": [],
   "source": [
    "sess.run(t_random)"
   ]
  },
  {
   "cell_type": "code",
   "execution_count": null,
   "id": "superior-swiss",
   "metadata": {},
   "outputs": [],
   "source": [
    "## TensorFlow 变量"
   ]
  },
  {
   "cell_type": "code",
   "execution_count": 21,
   "id": "acquired-syndrome",
   "metadata": {
    "scrolled": true
   },
   "outputs": [
    {
     "data": {
      "text/plain": [
       "array([[1.0086262 , 9.701668  , 8.487642  , ..., 4.014183  , 4.2018986 ,\n",
       "        6.0311484 ],\n",
       "       [1.6479492 , 2.5117612 , 8.651404  , ..., 3.8982236 , 1.9020462 ,\n",
       "        2.1089745 ],\n",
       "       [0.5706465 , 5.807663  , 7.647709  , ..., 6.8128204 , 6.302782  ,\n",
       "        2.469287  ],\n",
       "       ...,\n",
       "       [4.303278  , 9.856594  , 8.3518715 , ..., 1.6166127 , 5.4081845 ,\n",
       "        3.8831007 ],\n",
       "       [7.8500056 , 0.83293796, 3.787043  , ..., 7.4345884 , 9.469841  ,\n",
       "        1.8955421 ],\n",
       "       [2.594589  , 7.143749  , 3.7885928 , ..., 7.219738  , 2.5857759 ,\n",
       "        9.880056  ]], dtype=float32)"
      ]
     },
     "execution_count": 21,
     "metadata": {},
     "output_type": "execute_result"
    }
   ],
   "source": [
    "rand_t = tf.random_uniform([50,50], 0,10,seed=0)\n",
    "t_a = tf.Variable(rand_t)\n",
    "t_b = tf.Variable(rand_t)\n",
    "sess.run(rand_t)"
   ]
  },
  {
   "cell_type": "markdown",
   "id": "coordinated-appeal",
   "metadata": {},
   "source": [
    "## 下面的代码中定义了两个变量的权重和偏置。权重变量使用正态分布随机初始化，均值为 0，标准差为 2，权重大小为 100×100。偏置由 100 个元素组成，每个元素初始化为 0。在这里也使用了可选参数名以给计算图中定义的变量命名："
   ]
  },
  {
   "cell_type": "code",
   "execution_count": 25,
   "id": "connected-colorado",
   "metadata": {},
   "outputs": [],
   "source": [
    "weights = tf.Variable(tf.random_normal([100,100], stddev=2),name=\"w1\")\n",
    "bias = tf.Variable(tf.zeros([100]), name='biases')"
   ]
  },
  {
   "cell_type": "code",
   "execution_count": null,
   "id": "regular-vessel",
   "metadata": {},
   "outputs": [],
   "source": [
    "## 在前面的例子中，都是利用一些常量来初始化变量，也可以指定一个变量来初始化另一个变量。下面的语句将利用前面定义的权重来初始化 weight2"
   ]
  },
  {
   "cell_type": "code",
   "execution_count": 26,
   "id": "adverse-escape",
   "metadata": {},
   "outputs": [],
   "source": [
    "weights2 = tf.Variable(weights.initialized_value(), name=\"w2\")"
   ]
  },
  {
   "cell_type": "code",
   "execution_count": null,
   "id": "built-accused",
   "metadata": {},
   "outputs": [],
   "source": [
    "## 初始化变量"
   ]
  },
  {
   "cell_type": "code",
   "execution_count": null,
   "id": "happy-eugene",
   "metadata": {},
   "outputs": [],
   "source": []
  }
 ],
 "metadata": {
  "kernelspec": {
   "display_name": "Python 3",
   "language": "python",
   "name": "python3"
  },
  "language_info": {
   "codemirror_mode": {
    "name": "ipython",
    "version": 3
   },
   "file_extension": ".py",
   "mimetype": "text/x-python",
   "name": "python",
   "nbconvert_exporter": "python",
   "pygments_lexer": "ipython3",
   "version": "3.6.11"
  }
 },
 "nbformat": 4,
 "nbformat_minor": 5
}
