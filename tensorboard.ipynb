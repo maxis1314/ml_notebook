{
 "cells": [
  {
   "cell_type": "code",
   "execution_count": 4,
   "id": "mexican-minutes",
   "metadata": {},
   "outputs": [],
   "source": [
    "import tensorflow as tf\n",
    " \n",
    "# 定义一个简单的计算图，实现向量加法的操作。\n",
    "input1 = tf.constant([1.0, 2.0, 3.0], name = 'input1')\n",
    "input2 = tf.Variable(tf.random_uniform([3]), name = 'input2')\n",
    "output = tf.add_n([input1, input2], name = 'add')\n",
    " \n",
    "# 生成一个写日志的writer，并将当前的tensorflow计算图写入日志。\n",
    "# tensorflow提供了多种写日志文件的API\n",
    "writer = tf.summary.FileWriter('./logfile', tf.get_default_graph())\n",
    "writer.close()"
   ]
  },
  {
   "cell_type": "code",
   "execution_count": null,
   "id": "mysterious-prize",
   "metadata": {},
   "outputs": [],
   "source": []
  }
 ],
 "metadata": {
  "kernelspec": {
   "display_name": "Python 3",
   "language": "python",
   "name": "python3"
  },
  "language_info": {
   "codemirror_mode": {
    "name": "ipython",
    "version": 3
   },
   "file_extension": ".py",
   "mimetype": "text/x-python",
   "name": "python",
   "nbconvert_exporter": "python",
   "pygments_lexer": "ipython3",
   "version": "3.6.11"
  },
  "toc": {
   "base_numbering": 1,
   "nav_menu": {},
   "number_sections": true,
   "sideBar": true,
   "skip_h1_title": false,
   "title_cell": "Table of Contents",
   "title_sidebar": "Contents",
   "toc_cell": false,
   "toc_position": {},
   "toc_section_display": true,
   "toc_window_display": false
  }
 },
 "nbformat": 4,
 "nbformat_minor": 5
}
