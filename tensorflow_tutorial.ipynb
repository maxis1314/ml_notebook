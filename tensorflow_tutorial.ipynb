{
 "cells": [
  {
   "cell_type": "markdown",
   "id": "competent-resolution",
   "metadata": {},
   "source": [
    "# tenforflow 入门教学"
   ]
  },
  {
   "cell_type": "code",
   "execution_count": 1,
   "id": "ignored-glass",
   "metadata": {
    "scrolled": true
   },
   "outputs": [],
   "source": [
    "import tensorflow as tf"
   ]
  },
  {
   "cell_type": "code",
   "execution_count": 2,
   "id": "aggregate-citation",
   "metadata": {
    "scrolled": true
   },
   "outputs": [
    {
     "name": "stdout",
     "output_type": "stream",
     "text": [
      "Welcome to the exciting world of Deep Neural Networks!\n"
     ]
    }
   ],
   "source": [
    "message = tf.constant('Welcome to the exciting world of Deep Neural Networks!')\n",
    "with tf.Session() as sess:\n",
    "    print(sess.run(message).decode())"
   ]
  },
  {
   "cell_type": "code",
   "execution_count": 3,
   "id": "entire-marshall",
   "metadata": {},
   "outputs": [
    {
     "name": "stdout",
     "output_type": "stream",
     "text": [
      "[1 2 3 4]\n",
      "[2 1 5 3]\n",
      "[3 3 8 7]\n",
      "[3 3 8 7]\n"
     ]
    }
   ],
   "source": [
    "v_1 = tf.constant([1,2,3,4])\n",
    "v_2 = tf.constant([2,1,5,3])\n",
    "v_add = tf.add(v_1,v_2)\n",
    "with tf.Session() as sess:\n",
    "    print(sess.run(v_1))\n",
    "    print(sess.run(v_2))\n",
    "    print(sess.run(v_add))\n",
    "    print(sess.run(tf.add(tf.constant([1,2,3,4]),tf.constant([2,1,5,3]))))"
   ]
  },
  {
   "cell_type": "code",
   "execution_count": 4,
   "id": "satellite-emperor",
   "metadata": {},
   "outputs": [
    {
     "name": "stdout",
     "output_type": "stream",
     "text": [
      "[3 3 8 7]\n",
      "[3 3 8 7]\n"
     ]
    }
   ],
   "source": [
    "sess2 = tf.InteractiveSession()\n",
    "print(sess2.run(v_add))\n",
    "print(v_add.eval())\n",
    "sess2.close()"
   ]
  },
  {
   "cell_type": "markdown",
   "id": "sound-politics",
   "metadata": {},
   "source": [
    "## 要创建一个所有元素为零的张量，可以使用 tf.zeros() 函数。这个语句可以创建一个形如 [M，N] 的零元素矩阵，数据类型（dtype）可以是 int32、float32 等："
   ]
  },
  {
   "cell_type": "code",
   "execution_count": 5,
   "id": "interpreted-person",
   "metadata": {},
   "outputs": [],
   "source": [
    "zero_t = tf.zeros([3,4],tf.int32)\n",
    "with tf.Session() as sess:\n",
    "    sess.run(zero_t)"
   ]
  },
  {
   "cell_type": "markdown",
   "id": "executed-fetish",
   "metadata": {},
   "source": [
    "## 创建一个所有元素都设为 1 的张量。下面的语句即创建一个形如 [M，N]、元素均为 1 的矩阵："
   ]
  },
  {
   "cell_type": "code",
   "execution_count": 6,
   "id": "outside-remains",
   "metadata": {},
   "outputs": [],
   "source": [
    "ones_t = tf.ones([2,3],tf.int32)\n",
    "with tf.Session() as sess:\n",
    "    sess.run(ones_t)"
   ]
  },
  {
   "cell_type": "markdown",
   "id": "speaking-ivory",
   "metadata": {},
   "source": [
    "## 在一定范围内生成一个从初值到终值等差排布的序列"
   ]
  },
  {
   "cell_type": "code",
   "execution_count": 7,
   "id": "interracial-essex",
   "metadata": {},
   "outputs": [],
   "source": [
    "range_t = tf.linspace(2.0,15.0,5)\n",
    "with tf.Session() as sess:\n",
    "    sess.run(range_t)"
   ]
  },
  {
   "cell_type": "markdown",
   "id": "italian-mother",
   "metadata": {},
   "source": [
    "## 从开始（默认值=0）生成一个数字序列，增量为 delta（默认值=1），直到终值（但不包括终值）"
   ]
  },
  {
   "cell_type": "code",
   "execution_count": 8,
   "id": "czech-awareness",
   "metadata": {},
   "outputs": [],
   "source": [
    "range_t = tf.range(10)\n",
    "with tf.Session() as sess:\n",
    "    sess.run(range_t)"
   ]
  },
  {
   "cell_type": "markdown",
   "id": "unknown-northern",
   "metadata": {},
   "source": [
    "## 使用以下语句创建一个具有一定均值（默认值=0.0）和标准差（默认值=1.0）、形状为 [M，N] 的正态分布随机数组"
   ]
  },
  {
   "cell_type": "code",
   "execution_count": 9,
   "id": "checked-sheffield",
   "metadata": {},
   "outputs": [],
   "source": [
    "t_random = tf.random_normal([2,3], mean=12.0, stddev=100 , seed=12)\n",
    "with tf.Session() as sess:\n",
    "    sess.run(t_random)"
   ]
  },
  {
   "cell_type": "markdown",
   "id": "conventional-assault",
   "metadata": {},
   "source": [
    "![chicken.png](./images/chicken.jpg)"
   ]
  },
  {
   "cell_type": "code",
   "execution_count": 10,
   "id": "ancient-capture",
   "metadata": {},
   "outputs": [
    {
     "ename": "RuntimeError",
     "evalue": "Attempted to use a closed Session.",
     "output_type": "error",
     "traceback": [
      "\u001b[0;31m---------------------------------------------------------------------------\u001b[0m",
      "\u001b[0;31mRuntimeError\u001b[0m                              Traceback (most recent call last)",
      "\u001b[0;32m<ipython-input-10-2a96324e1f8a>\u001b[0m in \u001b[0;36m<module>\u001b[0;34m\u001b[0m\n\u001b[1;32m      1\u001b[0m \u001b[0;31m#很多时候需要以随机的顺序来呈现训练样本，可以使用 tf.random_shuffle() 来沿着它的第一维随机排列张量。如果 t_random 是想要重新排序的张量，使用下面的代码：\u001b[0m\u001b[0;34m\u001b[0m\u001b[0;34m\u001b[0m\u001b[0;34m\u001b[0m\u001b[0m\n\u001b[1;32m      2\u001b[0m \u001b[0mt_random_shuffle\u001b[0m \u001b[0;34m=\u001b[0m \u001b[0mtf\u001b[0m\u001b[0;34m.\u001b[0m\u001b[0mrandom_shuffle\u001b[0m\u001b[0;34m(\u001b[0m\u001b[0mt_random\u001b[0m\u001b[0;34m)\u001b[0m\u001b[0;34m\u001b[0m\u001b[0;34m\u001b[0m\u001b[0m\n\u001b[0;32m----> 3\u001b[0;31m \u001b[0msess\u001b[0m\u001b[0;34m.\u001b[0m\u001b[0mrun\u001b[0m\u001b[0;34m(\u001b[0m\u001b[0mt_random_shuffle\u001b[0m\u001b[0;34m)\u001b[0m\u001b[0;34m\u001b[0m\u001b[0;34m\u001b[0m\u001b[0m\n\u001b[0m",
      "\u001b[0;32m/usr/local/lib/python3.6/site-packages/tensorflow/python/client/session.py\u001b[0m in \u001b[0;36mrun\u001b[0;34m(self, fetches, feed_dict, options, run_metadata)\u001b[0m\n\u001b[1;32m    893\u001b[0m     \u001b[0;32mtry\u001b[0m\u001b[0;34m:\u001b[0m\u001b[0;34m\u001b[0m\u001b[0;34m\u001b[0m\u001b[0m\n\u001b[1;32m    894\u001b[0m       result = self._run(None, fetches, feed_dict, options_ptr,\n\u001b[0;32m--> 895\u001b[0;31m                          run_metadata_ptr)\n\u001b[0m\u001b[1;32m    896\u001b[0m       \u001b[0;32mif\u001b[0m \u001b[0mrun_metadata\u001b[0m\u001b[0;34m:\u001b[0m\u001b[0;34m\u001b[0m\u001b[0;34m\u001b[0m\u001b[0m\n\u001b[1;32m    897\u001b[0m         \u001b[0mproto_data\u001b[0m \u001b[0;34m=\u001b[0m \u001b[0mtf_session\u001b[0m\u001b[0;34m.\u001b[0m\u001b[0mTF_GetBuffer\u001b[0m\u001b[0;34m(\u001b[0m\u001b[0mrun_metadata_ptr\u001b[0m\u001b[0;34m)\u001b[0m\u001b[0;34m\u001b[0m\u001b[0;34m\u001b[0m\u001b[0m\n",
      "\u001b[0;32m/usr/local/lib/python3.6/site-packages/tensorflow/python/client/session.py\u001b[0m in \u001b[0;36m_run\u001b[0;34m(self, handle, fetches, feed_dict, options, run_metadata)\u001b[0m\n\u001b[1;32m   1051\u001b[0m     \u001b[0;31m# Check session.\u001b[0m\u001b[0;34m\u001b[0m\u001b[0;34m\u001b[0m\u001b[0;34m\u001b[0m\u001b[0m\n\u001b[1;32m   1052\u001b[0m     \u001b[0;32mif\u001b[0m \u001b[0mself\u001b[0m\u001b[0;34m.\u001b[0m\u001b[0m_closed\u001b[0m\u001b[0;34m:\u001b[0m\u001b[0;34m\u001b[0m\u001b[0;34m\u001b[0m\u001b[0m\n\u001b[0;32m-> 1053\u001b[0;31m       \u001b[0;32mraise\u001b[0m \u001b[0mRuntimeError\u001b[0m\u001b[0;34m(\u001b[0m\u001b[0;34m'Attempted to use a closed Session.'\u001b[0m\u001b[0;34m)\u001b[0m\u001b[0;34m\u001b[0m\u001b[0;34m\u001b[0m\u001b[0m\n\u001b[0m\u001b[1;32m   1054\u001b[0m     \u001b[0;32mif\u001b[0m \u001b[0mself\u001b[0m\u001b[0;34m.\u001b[0m\u001b[0mgraph\u001b[0m\u001b[0;34m.\u001b[0m\u001b[0mversion\u001b[0m \u001b[0;34m==\u001b[0m \u001b[0;36m0\u001b[0m\u001b[0;34m:\u001b[0m\u001b[0;34m\u001b[0m\u001b[0;34m\u001b[0m\u001b[0m\n\u001b[1;32m   1055\u001b[0m       raise RuntimeError('The Session graph is empty.  Add operations to the '\n",
      "\u001b[0;31mRuntimeError\u001b[0m: Attempted to use a closed Session."
     ]
    }
   ],
   "source": [
    "#很多时候需要以随机的顺序来呈现训练样本，可以使用 tf.random_shuffle() 来沿着它的第一维随机排列张量。如果 t_random 是想要重新排序的张量，使用下面的代码：\n",
    "t_random_shuffle = tf.random_shuffle(t_random)\n",
    "sess.run(t_random_shuffle)"
   ]
  },
  {
   "cell_type": "code",
   "execution_count": null,
   "id": "hazardous-least",
   "metadata": {},
   "outputs": [],
   "source": [
    "sess.run(t_random)"
   ]
  },
  {
   "cell_type": "code",
   "execution_count": null,
   "id": "superior-swiss",
   "metadata": {},
   "outputs": [],
   "source": [
    "## TensorFlow 变量"
   ]
  },
  {
   "cell_type": "code",
   "execution_count": null,
   "id": "acquired-syndrome",
   "metadata": {
    "scrolled": true
   },
   "outputs": [],
   "source": [
    "rand_t = tf.random_uniform([50,50], 0,10,seed=0)\n",
    "t_a = tf.Variable(rand_t)\n",
    "t_b = tf.Variable(rand_t)\n",
    "sess.run(rand_t)"
   ]
  },
  {
   "cell_type": "markdown",
   "id": "activated-database",
   "metadata": {},
   "source": [
    "## 下面的代码中定义了两个变量的权重和偏置。权重变量使用正态分布随机初始化，均值为 0，标准差为 2，权重大小为 100×100。偏置由 100 个元素组成，每个元素初始化为 0。在这里也使用了可选参数名以给计算图中定义的变量命名："
   ]
  },
  {
   "cell_type": "code",
   "execution_count": null,
   "id": "illegal-isolation",
   "metadata": {},
   "outputs": [],
   "source": [
    "weights = tf.Variable(tf.random_normal([100,100], stddev=2),name=\"w1\")\n",
    "bias = tf.Variable(tf.zeros([100]), name='biases')"
   ]
  },
  {
   "cell_type": "markdown",
   "id": "hindu-vessel",
   "metadata": {},
   "source": [
    "## 在前面的例子中，都是利用一些常量来初始化变量，也可以指定一个变量来初始化另一个变量。下面的语句将利用前面定义的权重来初始化 weight2"
   ]
  },
  {
   "cell_type": "code",
   "execution_count": null,
   "id": "jewish-height",
   "metadata": {},
   "outputs": [],
   "source": [
    "weights2 = tf.Variable(weights.initialized_value(), name=\"w2\")"
   ]
  },
  {
   "cell_type": "code",
   "execution_count": null,
   "id": "freelance-jaguar",
   "metadata": {},
   "outputs": [],
   "source": [
    "#初始化变量\n",
    "intial_op = tf.global_variables_initializer()\n",
    "#单独初始化\n",
    "sess.run(bias.initializer)\n"
   ]
  },
  {
   "cell_type": "markdown",
   "id": "yellow-eclipse",
   "metadata": {},
   "source": [
    "## 保存变量：使用 Saver 类来保存变量，定义一个 Saver 操作对象："
   ]
  },
  {
   "cell_type": "code",
   "execution_count": null,
   "id": "advanced-sapphire",
   "metadata": {},
   "outputs": [],
   "source": [
    "saver = tf.train.Saver()"
   ]
  },
  {
   "cell_type": "markdown",
   "id": "original-container",
   "metadata": {},
   "source": [
    "## 最重要的元素——占位符，它们用于将数据提供给计算图。可以使用以下方法定义一个占位符："
   ]
  },
  {
   "cell_type": "code",
   "execution_count": null,
   "id": "anonymous-arizona",
   "metadata": {},
   "outputs": [],
   "source": [
    "x = tf.placeholder(\"float\", name=\"xxx\")\n",
    "y = 12 * x\n",
    "data = tf.random_uniform([4,5],10)\n",
    "with tf.Session() as sess:\n",
    "    x_data = sess.run(data)\n",
    "    print(sess.run(y, feed_dict={x:x_data}))"
   ]
  },
  {
   "cell_type": "code",
   "execution_count": null,
   "id": "personalized-pollution",
   "metadata": {},
   "outputs": [],
   "source": [
    "with tf.Session() as sess:\n",
    "    for i in sess.run(tf.range(10)):\n",
    "        print(i)"
   ]
  },
  {
   "cell_type": "code",
   "execution_count": null,
   "id": "close-movie",
   "metadata": {},
   "outputs": [],
   "source": []
  }
 ],
 "metadata": {
  "kernelspec": {
   "display_name": "Python 3",
   "language": "python",
   "name": "python3"
  },
  "language_info": {
   "codemirror_mode": {
    "name": "ipython",
    "version": 3
   },
   "file_extension": ".py",
   "mimetype": "text/x-python",
   "name": "python",
   "nbconvert_exporter": "python",
   "pygments_lexer": "ipython3",
   "version": "3.6.11"
  }
 },
 "nbformat": 4,
 "nbformat_minor": 5
}
